{
 "cells": [
  {
   "cell_type": "markdown",
   "metadata": {
    "id": "_zfLH6koOUpa"
   },
   "source": [
    "# **EDA on IPL Dataset**"
   ]
  },
  {
   "cell_type": "markdown",
   "metadata": {
    "id": "Jnoio_RPOcMp"
   },
   "source": [
    "**Importing libraries**"
   ]
  },
  {
   "cell_type": "code",
   "execution_count": null,
   "metadata": {
    "id": "-Qi3GLYcAQSt"
   },
   "outputs": [],
   "source": [
    "import pandas as pd\n",
    "import numpy as np\n",
    "import matplotlib.pyplot as plt\n",
    "import seaborn as sns\n",
    "%matplotlib inline"
   ]
  },
  {
   "cell_type": "markdown",
   "metadata": {
    "id": "K4rjUyH8ltfb"
   },
   "source": [
    "**Importing IPL dataset**"
   ]
  },
  {
   "cell_type": "code",
   "execution_count": null,
   "metadata": {
    "id": "Pl4UsxCB1Gxn"
   },
   "outputs": [],
   "source": [
    "from google.colab import drive\n",
    "drive.mount('/content/drive')"
   ]
  },
  {
   "cell_type": "code",
   "execution_count": null,
   "metadata": {
    "id": "rHc1s7t_ASwd"
   },
   "outputs": [],
   "source": [
    "data=pd.read_csv(\"/content/drive/MyDrive/Datasets/matches.csv\")\n",
    "data.head(5)"
   ]
  },
  {
   "cell_type": "markdown",
   "metadata": {
    "id": "wToeqrVWlw5C"
   },
   "source": [
    "**How big is the dataset? (Rows and columns)**"
   ]
  },
  {
   "cell_type": "code",
   "execution_count": null,
   "metadata": {
    "id": "STh-IfaGAbL0"
   },
   "outputs": [],
   "source": [
    "data.shape"
   ]
  },
  {
   "cell_type": "code",
   "execution_count": null,
   "metadata": {
    "id": "SVOdqTeAAe5u"
   },
   "outputs": [],
   "source": [
    "data.info"
   ]
  },
  {
   "cell_type": "markdown",
   "metadata": {
    "id": "aDmra-mPl2T7"
   },
   "source": [
    "**Data Pre-processing: Finding out NaN values**"
   ]
  },
  {
   "cell_type": "code",
   "execution_count": null,
   "metadata": {
    "id": "R2ZnDchwAhFz"
   },
   "outputs": [],
   "source": [
    "data.isna().any()"
   ]
  },
  {
   "cell_type": "markdown",
   "metadata": {
    "id": "BVYb8Kv-O2eH"
   },
   "source": [
    "**Statistical Description of dataset**"
   ]
  },
  {
   "cell_type": "code",
   "execution_count": null,
   "metadata": {
    "id": "QBMBEJZLAj46"
   },
   "outputs": [],
   "source": [
    "data.describe()"
   ]
  },
  {
   "cell_type": "markdown",
   "metadata": {
    "id": "kyOE9s0Kl6dp"
   },
   "source": [
    "**How many matches (in total) were played according to the dataset?**"
   ]
  },
  {
   "cell_type": "code",
   "execution_count": null,
   "metadata": {
    "id": "4rkt6Uu9AoC9"
   },
   "outputs": [],
   "source": [
    "data['id'].count()"
   ]
  },
  {
   "cell_type": "markdown",
   "metadata": {
    "id": "6MpaXFjWl9JN"
   },
   "source": [
    "**How many IPL seasons are we using to analyse?**"
   ]
  },
  {
   "cell_type": "code",
   "execution_count": null,
   "metadata": {
    "id": "ob_BJybJBAHN"
   },
   "outputs": [],
   "source": [
    "data['Season'].unique()"
   ]
  },
  {
   "cell_type": "markdown",
   "metadata": {
    "id": "VSddMA2OmAgG"
   },
   "source": [
    "**Which IPL team won by scoring the maximum runs?**"
   ]
  },
  {
   "cell_type": "code",
   "execution_count": null,
   "metadata": {
    "id": "t-l4GNoDBRa4"
   },
   "outputs": [],
   "source": [
    "data.iloc[data['win_by_runs'].idxmax()]"
   ]
  },
  {
   "cell_type": "markdown",
   "metadata": {
    "id": "q2or1qahmI7o"
   },
   "source": [
    "**Which IPL team won by consuming maximum wickets?**\n"
   ]
  },
  {
   "cell_type": "code",
   "execution_count": null,
   "metadata": {
    "id": "hnDQ_E6qCQi3"
   },
   "outputs": [],
   "source": [
    "data.iloc[data['win_by_wickets'].idxmax()]"
   ]
  },
  {
   "cell_type": "markdown",
   "metadata": {
    "id": "R66Xifm7QO34"
   },
   "source": [
    "**Which IPL team won by taking minimum wickets?**\n"
   ]
  },
  {
   "cell_type": "code",
   "execution_count": null,
   "metadata": {
    "id": "KryDLMs3P-pH"
   },
   "outputs": [],
   "source": [
    "data.iloc[data['win_by_wickets'].idxmin()]"
   ]
  },
  {
   "cell_type": "markdown",
   "metadata": {
    "id": "hHB8ZcmVmPOp"
   },
   "source": [
    "**Which season consisted of the highest number of matches ever played?**"
   ]
  },
  {
   "cell_type": "code",
   "execution_count": null,
   "metadata": {
    "id": "ePMr2SKECBxe"
   },
   "outputs": [],
   "source": [
    "fig_dims = (20, 4)\n",
    "fig, ax = plt.subplots(figsize=fig_dims)\n",
    "sns.countplot(x='Season', ax=ax,data=data)\n",
    "plt.show()"
   ]
  },
  {
   "cell_type": "markdown",
   "metadata": {
    "id": "7peS69c4ma8i"
   },
   "source": [
    "**Which is the most successful IPL team with all the data at hand?**"
   ]
  },
  {
   "cell_type": "code",
   "execution_count": null,
   "metadata": {
    "id": "WlJtoQwEDght"
   },
   "outputs": [],
   "source": [
    "data1 = data.winner.value_counts()\n",
    "sns.barplot(y = data1.index, x = data1)"
   ]
  },
  {
   "cell_type": "markdown",
   "metadata": {
    "id": "ARp-eZYommux"
   },
   "source": [
    "**What is the probability of winning a match if the toss was won?**"
   ]
  },
  {
   "cell_type": "code",
   "execution_count": null,
   "metadata": {
    "id": "YyLJQnpliAnB"
   },
   "outputs": [],
   "source": [
    "probability_of_win = data['toss_winner'] == data['winner']\n",
    "\n",
    "probability_of_win.groupby(probability_of_win).size()"
   ]
  },
  {
   "cell_type": "code",
   "execution_count": null,
   "metadata": {
    "id": "GiQ3zNFBiXEB"
   },
   "outputs": [],
   "source": [
    "sns.countplot(probability_of_win)"
   ]
  },
  {
   "cell_type": "markdown",
   "metadata": {
    "id": "cJtZAMQlNoId"
   },
   "source": [
    "**Setting a higher row width**"
   ]
  },
  {
   "cell_type": "code",
   "execution_count": null,
   "metadata": {
    "id": "E_DjdI37NZK9"
   },
   "outputs": [],
   "source": [
    "pd.set_option('max_rows', 99999)\n",
    "pd.set_option('max_colwidth', 400)\n",
    "pd.describe_option('max_colwidth')"
   ]
  },
  {
   "cell_type": "markdown",
   "metadata": {
    "id": "JB04B7MqkLxo"
   },
   "source": [
    "**Highest wins by teams per season**"
   ]
  },
  {
   "cell_type": "code",
   "execution_count": null,
   "metadata": {
    "id": "w_bV1Dn-jMfH"
   },
   "outputs": [],
   "source": [
    "data.groupby('Season')['winner'].value_counts()"
   ]
  },
  {
   "cell_type": "code",
   "execution_count": null,
   "metadata": {
    "id": "IpWs9k-Ukspw"
   },
   "outputs": [],
   "source": [
    "data['toss_decision'].value_counts()"
   ]
  },
  {
   "cell_type": "markdown",
   "metadata": {
    "id": "6bOJue9ITSq4"
   },
   "source": [
    "**Man of the match - Highest to lowest (in won matches)**"
   ]
  },
  {
   "cell_type": "code",
   "execution_count": null,
   "metadata": {
    "id": "DHgFoju4k5PU"
   },
   "outputs": [],
   "source": [
    "data['player_of_match'].value_counts()"
   ]
  },
  {
   "cell_type": "markdown",
   "metadata": {
    "id": "H9Jy2KqTTeDv"
   },
   "source": [
    "**In which city were the number of matches played?**"
   ]
  },
  {
   "cell_type": "code",
   "execution_count": null,
   "metadata": {
    "id": "P6NnwPxXlVVD"
   },
   "outputs": [],
   "source": [
    "data['city'].value_counts()"
   ]
  },
  {
   "cell_type": "markdown",
   "metadata": {
    "id": "cFPVyQeBTiWn"
   },
   "source": [
    "\n",
    "\n",
    "---\n",
    "\n"
   ]
  }
 ],
 "metadata": {
  "colab": {
   "collapsed_sections": [
    "_zfLH6koOUpa"
   ],
   "name": "IPL data analysis",
   "provenance": []
  },
  "kernelspec": {
   "display_name": "Python 3",
   "language": "python",
   "name": "python3"
  },
  "language_info": {
   "codemirror_mode": {
    "name": "ipython",
    "version": 3
   },
   "file_extension": ".py",
   "mimetype": "text/x-python",
   "name": "python",
   "nbconvert_exporter": "python",
   "pygments_lexer": "ipython3",
   "version": "3.7.3"
  }
 },
 "nbformat": 4,
 "nbformat_minor": 1
}
